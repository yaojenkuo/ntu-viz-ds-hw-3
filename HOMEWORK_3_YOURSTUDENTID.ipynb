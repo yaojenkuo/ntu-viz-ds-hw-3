{
 "cells": [
  {
   "cell_type": "code",
   "execution_count": null,
   "metadata": {},
   "outputs": [],
   "source": [
    "import sys\n",
    "import unittest"
   ]
  },
  {
   "cell_type": "code",
   "execution_count": null,
   "metadata": {},
   "outputs": [],
   "source": [
    "def find_divisors(x):\n",
    "    \"\"\"\n",
    "    Return the divisors in a set of x, an exact integer >= 1.\n",
    "    >>> find_divisors(1)\n",
    "    {1}\n",
    "    >>> find_divisors(2)\n",
    "    {1, 2}\n",
    "    >>> find_divisors(3)\n",
    "    {1, 3}\n",
    "    \"\"\"\n",
    "    # your answer here"
   ]
  },
  {
   "cell_type": "code",
   "execution_count": null,
   "metadata": {},
   "outputs": [],
   "source": [
    "def find_primes(x, y):\n",
    "    \"\"\"\n",
    "    Return the primes between x and y in a list, x and y are both integer >= 0.\n",
    "    x and y are inclusive if they are also primes.\n",
    "    >>> find_primes(1, 5)\n",
    "    [2, 3, 5]\n",
    "    >>> find_primes(1, 10)\n",
    "    [2, 3, 5, 7]\n",
    "    >>> find_primes(2, 17)\n",
    "    [2, 3, 5, 7, 11, 13, 17]\n",
    "    \"\"\"\n",
    "    # your answer here"
   ]
  },
  {
   "cell_type": "code",
   "execution_count": null,
   "metadata": {},
   "outputs": [],
   "source": [
    "def calc_daily_increase(x):\n",
    "    \"\"\"\n",
    "    Return the daily increase for x in a list.\n",
    "    >>> calc_daily_increase([1, 2, 3])\n",
    "    [1, 1, 1]\n",
    "    >>> calc_daily_increase([2, 3, 4])\n",
    "    [2, 1, 1]\n",
    "    >>> calc_daily_increase([5, 5, 6, 6])\n",
    "    [5, 0, 1, 0]\n",
    "    \"\"\"\n",
    "    # your answer here"
   ]
  },
  {
   "cell_type": "code",
   "execution_count": null,
   "metadata": {},
   "outputs": [],
   "source": [
    "def calc_std(*args):\n",
    "    \"\"\"\n",
    "    Return the standard deviation of args as a string formatted to 2 decimals, e.g. the format of {:.2f}\n",
    "    >>> calc_std(1, 2, 3, 4)\n",
    "    '1.12'\n",
    "    >>> calc_std(1, 2, 3, 4, 5)\n",
    "    '1.41'\n",
    "    >>> calc_std(1, 2, 3, 4, 5, 6, 7)\n",
    "    '2.00'\n",
    "    \"\"\"\n",
    "    # your answer here"
   ]
  },
  {
   "cell_type": "code",
   "execution_count": null,
   "metadata": {},
   "outputs": [],
   "source": [
    "def check_bailout(city_county, hh_income_per_month, hh_saving, n_members):\n",
    "    \"\"\"\n",
    "    Return the bailout check result as a string with four types of message:\n",
    "    - '核發1萬元'\n",
    "    - '核發1-3萬元'\n",
    "    - '不符資格'\n",
    "    - '請重新輸入居住縣市別'\n",
    "    >>> check_bailout('臺北市', 34000, 500000, 3)\n",
    "    '核發1萬元'\n",
    "    >>> check_bailout('非六都之縣市', 34000, 500000, 3)\n",
    "    '不符資格'\n",
    "    >>> check_bailout('臺北市', 20000, 500000, 3)\n",
    "    '核發1-3萬元'\n",
    "    >>> check_bailout('台北市', 34000, 500000, 3)\n",
    "    '請重新輸入居住縣市別'\n",
    "    \"\"\"\n",
    "    # your answer here"
   ]
  },
  {
   "cell_type": "code",
   "execution_count": null,
   "metadata": {},
   "outputs": [],
   "source": [
    "%load hw_3_test.py"
   ]
  }
 ],
 "metadata": {
  "kernelspec": {
   "display_name": "Python 3",
   "language": "python",
   "name": "python3"
  },
  "language_info": {
   "codemirror_mode": {
    "name": "ipython",
    "version": 3
   },
   "file_extension": ".py",
   "mimetype": "text/x-python",
   "name": "python",
   "nbconvert_exporter": "python",
   "pygments_lexer": "ipython3",
   "version": "3.7.7"
  }
 },
 "nbformat": 4,
 "nbformat_minor": 4
}
